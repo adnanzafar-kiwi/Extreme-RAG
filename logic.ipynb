{
 "cells": [
  {
   "cell_type": "code",
   "execution_count": 2,
   "metadata": {},
   "outputs": [
    {
     "data": {
      "text/plain": [
       "True"
      ]
     },
     "execution_count": 2,
     "metadata": {},
     "output_type": "execute_result"
    }
   ],
   "source": [
    "from llama_index.core import (\n",
    "    VectorStoreIndex, \n",
    "    SimpleDirectoryReader, \n",
    "    StorageContext, \n",
    "    ServiceContext, \n",
    "    load_index_from_storage\n",
    ")\n",
    "from llama_index.core.node_parser import SemanticSplitterNodeParser\n",
    "from llama_index.embeddings.gemini import GeminiEmbedding\n",
    "from llama_index.llms.groq import Groq\n",
    "from llama_index.postprocessor.cohere_rerank import CohereRerank\n",
    "import os\n",
    "from dotenv import load_dotenv\n",
    "load_dotenv('.local-env')"
   ]
  },
  {
   "cell_type": "code",
   "execution_count": 3,
   "metadata": {},
   "outputs": [],
   "source": [
    "GOOGLE_API_KEY = os.getenv(\"GEMINI_API_KEY\")\n",
    "GROQ_API_KEY = os.getenv(\"GROQ_API_KEY\")\n",
    "COHERE_API_KEY = os.getenv(\"COHERE_API_KEY\")"
   ]
  },
  {
   "cell_type": "code",
   "execution_count": 4,
   "metadata": {},
   "outputs": [],
   "source": [
    "reader = SimpleDirectoryReader(input_dir=\"/files\")\n",
    "documents = reader.load_data()"
   ]
  },
  {
   "cell_type": "code",
   "execution_count": 5,
   "metadata": {},
   "outputs": [
    {
     "name": "stderr",
     "output_type": "stream",
     "text": [
      "Generating embeddings: 0it [00:00, ?it/s]:00<?, ?it/s]\n",
      "Generating embeddings: 0it [00:00, ?it/s]\n",
      "Generating embeddings: 0it [00:00, ?it/s]\n",
      "Generating embeddings: 0it [00:00, ?it/s]\n",
      "Generating embeddings: 0it [00:00, ?it/s]\n",
      "Generating embeddings: 100%|██████████| 7/7 [00:06<00:00,  1.16it/s]\n",
      "Generating embeddings: 100%|██████████| 12/12 [00:08<00:00,  1.42it/s]\n",
      "Generating embeddings: 100%|██████████| 13/13 [00:08<00:00,  1.46it/s]\n",
      "Generating embeddings: 100%|██████████| 11/11 [00:07<00:00,  1.45it/s]\n",
      "Generating embeddings: 100%|██████████| 19/19 [00:08<00:00,  2.18it/s]\n",
      "Generating embeddings: 100%|██████████| 5/5 [00:02<00:00,  2.37it/s]\n",
      "Generating embeddings: 100%|██████████| 1/1 [00:00<00:00,  1.86it/s]\n",
      "Generating embeddings: 100%|██████████| 12/12 [00:06<00:00,  1.92it/s]\n",
      "Generating embeddings: 100%|██████████| 16/16 [00:07<00:00,  2.14it/s]\n",
      "Generating embeddings: 100%|██████████| 12/12 [00:05<00:00,  2.16it/s]\n",
      "Generating embeddings: 100%|██████████| 19/19 [00:08<00:00,  2.17it/s]\n",
      "Generating embeddings: 100%|██████████| 8/8 [00:03<00:00,  2.16it/s]\n",
      "Generating embeddings: 100%|██████████| 1/1 [00:00<00:00,  2.28it/s]\n",
      "Generating embeddings: 100%|██████████| 1/1 [00:00<00:00,  2.30it/s]\n",
      "Generating embeddings: 100%|██████████| 1/1 [00:00<00:00,  2.29it/s]\n",
      "Generating embeddings: 100%|██████████| 1/1 [00:00<00:00,  2.43it/s]\n",
      "Generating embeddings: 100%|██████████| 2/2 [00:00<00:00,  2.02it/s]\n",
      "Generating embeddings: 100%|██████████| 1/1 [00:00<00:00,  2.28it/s]\n",
      "Generating embeddings: 100%|██████████| 1/1 [00:00<00:00,  2.42it/s]\n",
      "Generating embeddings: 100%|██████████| 1/1 [00:00<00:00,  2.29it/s]\n",
      "Generating embeddings: 100%|██████████| 1/1 [00:00<00:00,  2.40it/s]\n",
      "Generating embeddings: 100%|██████████| 1/1 [00:00<00:00,  2.28it/s]\n",
      "Generating embeddings: 100%|██████████| 1/1 [00:00<00:00,  2.26it/s]\n",
      "Generating embeddings: 100%|██████████| 1/1 [00:00<00:00,  2.29it/s]\n",
      "Generating embeddings: 100%|██████████| 2/2 [00:00<00:00,  2.29it/s]\n",
      "Generating embeddings: 100%|██████████| 1/1 [00:00<00:00,  2.17it/s]\n",
      "Generating embeddings: 100%|██████████| 1/1 [00:00<00:00,  2.37it/s]\n",
      "Generating embeddings: 100%|██████████| 1/1 [00:00<00:00,  2.03it/s]\n",
      "Generating embeddings: 100%|██████████| 1/1 [00:00<00:00,  1.96it/s]\n",
      "Generating embeddings: 100%|██████████| 1/1 [00:00<00:00,  2.28it/s]\n",
      "Generating embeddings: 100%|██████████| 10/10 [00:04<00:00,  2.16it/s]\n",
      "Generating embeddings: 100%|██████████| 13/13 [00:06<00:00,  2.12it/s]\n",
      "Generating embeddings: 100%|██████████| 13/13 [00:05<00:00,  2.23it/s]\n",
      "Generating embeddings: 100%|██████████| 17/17 [00:07<00:00,  2.15it/s]\n",
      "Generating embeddings: 100%|██████████| 19/19 [00:09<00:00,  2.11it/s]\n",
      "Generating embeddings: 100%|██████████| 24/24 [00:10<00:00,  2.21it/s]\n",
      "Generating embeddings: 100%|██████████| 23/23 [00:10<00:00,  2.19it/s]\n",
      "Generating embeddings: 100%|██████████| 20/20 [00:09<00:00,  2.18it/s]\n",
      "Generating embeddings: 100%|██████████| 16/16 [00:07<00:00,  2.23it/s]\n",
      "Generating embeddings: 100%|██████████| 16/16 [00:07<00:00,  2.20it/s]\n",
      "Generating embeddings: 100%|██████████| 15/15 [00:07<00:00,  2.12it/s]\n",
      "Generating embeddings: 100%|██████████| 12/12 [00:05<00:00,  2.01it/s]\n",
      "Generating embeddings: 100%|██████████| 19/19 [00:08<00:00,  2.19it/s]\n",
      "Generating embeddings: 100%|██████████| 18/18 [00:08<00:00,  2.20it/s]\n",
      "Generating embeddings: 100%|██████████| 27/27 [00:12<00:00,  2.11it/s]\n",
      "Generating embeddings: 100%|██████████| 17/17 [00:07<00:00,  2.13it/s]\n",
      "Generating embeddings: 100%|██████████| 24/24 [00:11<00:00,  2.09it/s]\n",
      "Generating embeddings: 100%|██████████| 15/15 [00:07<00:00,  2.02it/s]\n",
      "Generating embeddings: 100%|██████████| 9/9 [00:04<00:00,  2.02it/s]\n",
      "Generating embeddings: 0it [00:00, ?it/s]3:55<26:36,  7.64s/it]\n",
      "Generating embeddings: 100%|██████████| 20/20 [00:09<00:00,  2.00it/s]\n",
      "Generating embeddings: 100%|██████████| 15/15 [00:07<00:00,  2.00it/s]\n",
      "Generating embeddings: 0it [00:00, ?it/s]4:13<22:58,  6.69s/it]\n",
      "Generating embeddings: 100%|██████████| 23/23 [00:12<00:00,  1.91it/s]\n",
      "Generating embeddings: 100%|██████████| 24/24 [00:12<00:00,  1.99it/s]\n",
      "Generating embeddings: 100%|██████████| 15/15 [00:07<00:00,  2.02it/s]\n",
      "Generating embeddings: 100%|██████████| 17/17 [00:07<00:00,  2.28it/s]\n",
      "Generating embeddings: 100%|██████████| 2/2 [00:01<00:00,  1.96it/s]\n",
      "Generating embeddings: 100%|██████████| 6/6 [00:02<00:00,  2.09it/s]\n",
      "Generating embeddings: 100%|██████████| 15/15 [00:07<00:00,  2.09it/s]\n",
      "Generating embeddings: 100%|██████████| 13/13 [00:06<00:00,  2.15it/s]\n",
      "Generating embeddings: 100%|██████████| 11/11 [00:05<00:00,  2.07it/s]\n",
      "Generating embeddings: 100%|██████████| 7/7 [00:03<00:00,  2.09it/s]\n",
      "Generating embeddings: 100%|██████████| 17/17 [00:07<00:00,  2.16it/s]\n",
      "Generating embeddings: 100%|██████████| 18/18 [00:08<00:00,  2.15it/s]\n",
      "Generating embeddings: 100%|██████████| 7/7 [00:03<00:00,  2.21it/s]\n",
      "Generating embeddings: 100%|██████████| 15/15 [00:06<00:00,  2.19it/s]\n",
      "Generating embeddings: 100%|██████████| 29/29 [00:14<00:00,  1.95it/s]\n",
      "Generating embeddings: 100%|██████████| 27/27 [00:12<00:00,  2.13it/s]\n",
      "Generating embeddings: 100%|██████████| 12/12 [00:05<00:00,  2.15it/s]\n",
      "Generating embeddings: 100%|██████████| 8/8 [00:03<00:00,  2.27it/s]\n",
      "Generating embeddings: 100%|██████████| 16/16 [00:07<00:00,  2.06it/s]\n",
      "Generating embeddings: 100%|██████████| 6/6 [00:02<00:00,  2.01it/s]\n",
      "Generating embeddings: 100%|██████████| 5/5 [00:02<00:00,  2.21it/s]\n",
      "Generating embeddings: 100%|██████████| 25/25 [00:11<00:00,  2.27it/s]\n",
      "Generating embeddings: 100%|██████████| 14/14 [00:06<00:00,  2.14it/s]\n",
      "Generating embeddings: 100%|██████████| 16/16 [00:07<00:00,  2.08it/s]\n",
      "Generating embeddings: 100%|██████████| 11/11 [00:05<00:00,  2.00it/s]\n",
      "Generating embeddings: 100%|██████████| 20/20 [00:09<00:00,  2.14it/s]\n",
      "Generating embeddings: 100%|██████████| 11/11 [00:04<00:00,  2.24it/s]\n",
      "Generating embeddings: 100%|██████████| 11/11 [00:05<00:00,  2.07it/s]\n",
      "Generating embeddings: 100%|██████████| 8/8 [00:03<00:00,  2.19it/s]\n",
      "Generating embeddings: 100%|██████████| 6/6 [00:02<00:00,  2.07it/s]\n",
      "Generating embeddings: 100%|██████████| 7/7 [00:03<00:00,  2.12it/s]\n",
      "Generating embeddings: 100%|██████████| 15/15 [00:06<00:00,  2.23it/s]\n",
      "Generating embeddings: 100%|██████████| 7/7 [00:03<00:00,  2.22it/s]\n",
      "Generating embeddings: 100%|██████████| 1/1 [00:00<00:00,  1.99it/s]\n",
      "Generating embeddings: 100%|██████████| 8/8 [00:03<00:00,  2.17it/s]\n",
      "Generating embeddings: 100%|██████████| 11/11 [00:05<00:00,  2.11it/s]\n",
      "Generating embeddings: 100%|██████████| 15/15 [00:06<00:00,  2.17it/s]\n",
      "Generating embeddings: 100%|██████████| 8/8 [00:03<00:00,  2.04it/s]\n",
      "Generating embeddings: 100%|██████████| 11/11 [00:05<00:00,  2.14it/s]\n",
      "Generating embeddings: 100%|██████████| 13/13 [00:05<00:00,  2.21it/s]\n",
      "Generating embeddings: 100%|██████████| 14/14 [00:06<00:00,  2.13it/s]\n",
      "Generating embeddings: 100%|██████████| 12/12 [00:05<00:00,  2.06it/s]\n",
      "Generating embeddings: 100%|██████████| 11/11 [00:05<00:00,  2.15it/s]\n",
      "Generating embeddings: 100%|██████████| 5/5 [00:02<00:00,  2.13it/s]\n",
      "Generating embeddings: 100%|██████████| 21/21 [00:09<00:00,  2.14it/s]\n",
      "Generating embeddings: 100%|██████████| 14/14 [00:06<00:00,  2.10it/s]\n",
      "Generating embeddings: 100%|██████████| 5/5 [00:02<00:00,  2.10it/s]\n",
      "Generating embeddings: 100%|██████████| 12/12 [00:06<00:00,  2.00it/s]\n",
      "Generating embeddings: 100%|██████████| 19/19 [00:08<00:00,  2.20it/s]\n",
      "Generating embeddings: 100%|██████████| 5/5 [00:02<00:00,  2.21it/s]\n",
      "Generating embeddings: 100%|██████████| 13/13 [00:06<00:00,  2.14it/s]\n",
      "Generating embeddings: 100%|██████████| 5/5 [00:02<00:00,  2.19it/s]\n",
      "Generating embeddings: 100%|██████████| 10/10 [00:04<00:00,  2.18it/s]\n",
      "Generating embeddings: 100%|██████████| 16/16 [00:07<00:00,  2.05it/s]\n",
      "Generating embeddings: 100%|██████████| 14/14 [00:06<00:00,  2.11it/s]\n",
      "Generating embeddings: 100%|██████████| 8/8 [00:03<00:00,  2.18it/s]\n",
      "Generating embeddings: 100%|██████████| 7/7 [00:03<00:00,  2.15it/s]\n",
      "Generating embeddings: 100%|██████████| 15/15 [00:07<00:00,  2.05it/s]\n",
      "Generating embeddings: 100%|██████████| 8/8 [00:03<00:00,  2.13it/s]\n",
      "Generating embeddings: 100%|██████████| 6/6 [00:03<00:00,  2.00it/s]\n",
      "Generating embeddings: 100%|██████████| 4/4 [00:01<00:00,  2.03it/s]\n",
      "Generating embeddings: 100%|██████████| 10/10 [00:04<00:00,  2.17it/s]\n",
      "Generating embeddings: 100%|██████████| 3/3 [00:01<00:00,  2.30it/s]\n",
      "Generating embeddings: 100%|██████████| 5/5 [00:02<00:00,  2.33it/s]\n",
      "Generating embeddings: 100%|██████████| 11/11 [00:04<00:00,  2.20it/s]\n",
      "Generating embeddings: 100%|██████████| 11/11 [00:05<00:00,  2.13it/s]\n",
      "Generating embeddings: 100%|██████████| 11/11 [00:05<00:00,  2.15it/s]\n",
      "Generating embeddings: 100%|██████████| 17/17 [00:08<00:00,  2.12it/s]\n",
      "Generating embeddings: 100%|██████████| 15/15 [00:06<00:00,  2.17it/s]\n",
      "Generating embeddings: 100%|██████████| 17/17 [00:07<00:00,  2.20it/s]\n",
      "Generating embeddings: 100%|██████████| 14/14 [00:06<00:00,  2.00it/s]\n",
      "Generating embeddings: 100%|██████████| 6/6 [00:02<00:00,  2.10it/s]\n",
      "Generating embeddings: 0it [00:00, ?it/s]10:57<12:09,  5.49s/it]\n",
      "Generating embeddings: 100%|██████████| 29/29 [00:13<00:00,  2.08it/s]\n",
      "Generating embeddings: 100%|██████████| 24/24 [00:11<00:00,  2.15it/s]\n",
      "Generating embeddings: 0it [00:00, ?it/s]11:22<16:02,  7.41s/it]\n",
      "Generating embeddings: 100%|██████████| 3/3 [00:01<00:00,  2.24it/s]\n",
      "Generating embeddings: 100%|██████████| 24/24 [00:11<00:00,  2.08it/s]\n",
      "Generating embeddings: 100%|██████████| 39/39 [00:18<00:00,  2.14it/s]\n",
      "Generating embeddings: 100%|██████████| 24/24 [00:11<00:00,  2.11it/s]\n",
      "Generating embeddings: 100%|██████████| 9/9 [00:04<00:00,  2.18it/s]\n",
      "Generating embeddings: 100%|██████████| 25/25 [00:11<00:00,  2.21it/s]\n",
      "Generating embeddings: 100%|██████████| 25/25 [00:11<00:00,  2.15it/s]\n",
      "Generating embeddings: 100%|██████████| 10/10 [00:04<00:00,  2.10it/s]\n",
      "Generating embeddings: 100%|██████████| 30/30 [00:13<00:00,  2.17it/s]\n",
      "Generating embeddings: 100%|██████████| 10/10 [00:04<00:00,  2.09it/s]\n",
      "Generating embeddings: 100%|██████████| 13/13 [00:06<00:00,  1.99it/s]\n",
      "Generating embeddings: 100%|██████████| 11/11 [00:05<00:00,  2.17it/s]\n",
      "Generating embeddings: 100%|██████████| 9/9 [00:04<00:00,  2.06it/s]\n",
      "Generating embeddings: 100%|██████████| 1/1 [00:00<00:00,  2.02it/s]\n",
      "Generating embeddings: 100%|██████████| 15/15 [00:06<00:00,  2.18it/s]\n",
      "Generating embeddings: 100%|██████████| 23/23 [00:10<00:00,  2.10it/s]\n",
      "Generating embeddings: 100%|██████████| 14/14 [00:06<00:00,  2.01it/s]\n",
      "Generating embeddings: 100%|██████████| 9/9 [00:04<00:00,  2.01it/s]\n",
      "Generating embeddings: 100%|██████████| 24/24 [00:11<00:00,  2.09it/s]\n",
      "Generating embeddings: 100%|██████████| 7/7 [00:03<00:00,  2.21it/s]\n",
      "Generating embeddings: 100%|██████████| 6/6 [00:02<00:00,  2.03it/s]\n",
      "Generating embeddings: 100%|██████████| 15/15 [00:07<00:00,  2.09it/s]\n",
      "Generating embeddings: 100%|██████████| 11/11 [00:05<00:00,  2.11it/s]\n",
      "Generating embeddings: 100%|██████████| 13/13 [00:06<00:00,  2.08it/s]\n",
      "Generating embeddings: 100%|██████████| 20/20 [00:09<00:00,  2.14it/s]\n",
      "Generating embeddings: 100%|██████████| 1/1 [00:00<00:00,  2.14it/s]\n",
      "Generating embeddings: 100%|██████████| 22/22 [00:10<00:00,  2.14it/s]\n",
      "Generating embeddings: 100%|██████████| 14/14 [00:06<00:00,  2.16it/s]\n",
      "Generating embeddings: 100%|██████████| 6/6 [00:02<00:00,  2.16it/s]\n",
      "Generating embeddings: 100%|██████████| 7/7 [00:03<00:00,  2.15it/s]\n",
      "Generating embeddings: 100%|██████████| 21/21 [00:09<00:00,  2.11it/s]\n",
      "Generating embeddings: 100%|██████████| 11/11 [00:05<00:00,  2.17it/s]\n",
      "Generating embeddings: 0it [00:00, ?it/s]15:05<09:37,  5.96s/it]\n",
      "Generating embeddings: 100%|██████████| 16/16 [00:06<00:00,  2.30it/s]\n",
      "Generating embeddings: 100%|██████████| 3/3 [00:01<00:00,  2.26it/s]\n",
      "Generating embeddings: 100%|██████████| 8/8 [00:03<00:00,  2.06it/s]\n",
      "Generating embeddings: 100%|██████████| 12/12 [00:05<00:00,  2.17it/s]\n",
      "Generating embeddings: 100%|██████████| 11/11 [00:05<00:00,  1.93it/s]\n",
      "Generating embeddings: 100%|██████████| 14/14 [00:06<00:00,  2.09it/s]\n",
      "Generating embeddings: 100%|██████████| 11/11 [00:05<00:00,  2.12it/s]\n",
      "Generating embeddings: 100%|██████████| 11/11 [00:05<00:00,  2.05it/s]\n",
      "Generating embeddings: 100%|██████████| 12/12 [00:05<00:00,  2.21it/s]\n",
      "Generating embeddings: 100%|██████████| 7/7 [00:03<00:00,  2.07it/s]\n",
      "Generating embeddings: 100%|██████████| 8/8 [00:03<00:00,  2.06it/s]\n",
      "Generating embeddings: 100%|██████████| 18/18 [00:08<00:00,  2.11it/s]\n",
      "Generating embeddings: 100%|██████████| 13/13 [00:06<00:00,  2.11it/s]\n",
      "Generating embeddings: 100%|██████████| 13/13 [00:05<00:00,  2.19it/s]\n",
      "Generating embeddings: 100%|██████████| 14/14 [00:06<00:00,  2.12it/s]\n",
      "Generating embeddings: 100%|██████████| 14/14 [00:06<00:00,  2.14it/s]\n",
      "Generating embeddings: 100%|██████████| 11/11 [00:05<00:00,  2.02it/s]\n",
      "Generating embeddings: 100%|██████████| 9/9 [00:04<00:00,  2.18it/s]\n",
      "Generating embeddings: 100%|██████████| 8/8 [00:03<00:00,  2.08it/s]\n",
      "Generating embeddings: 100%|██████████| 12/12 [00:05<00:00,  2.25it/s]\n",
      "Generating embeddings: 100%|██████████| 13/13 [00:06<00:00,  2.15it/s]\n",
      "Generating embeddings: 100%|██████████| 15/15 [00:07<00:00,  1.96it/s]\n",
      "Generating embeddings: 100%|██████████| 16/16 [00:07<00:00,  2.04it/s]\n",
      "Generating embeddings: 100%|██████████| 17/17 [00:08<00:00,  2.10it/s]\n",
      "Generating embeddings: 100%|██████████| 13/13 [00:06<00:00,  2.15it/s]\n",
      "Generating embeddings: 100%|██████████| 7/7 [00:03<00:00,  2.15it/s]\n",
      "Generating embeddings: 100%|██████████| 10/10 [00:04<00:00,  2.01it/s]\n",
      "Generating embeddings: 100%|██████████| 11/11 [00:04<00:00,  2.29it/s]\n",
      "Generating embeddings: 100%|██████████| 10/10 [00:04<00:00,  2.15it/s]\n",
      "Generating embeddings: 100%|██████████| 17/17 [00:07<00:00,  2.17it/s]\n",
      "Generating embeddings: 100%|██████████| 15/15 [00:07<00:00,  2.07it/s]\n",
      "Generating embeddings: 100%|██████████| 9/9 [00:04<00:00,  2.09it/s]\n",
      "Generating embeddings: 100%|██████████| 16/16 [00:17<00:00,  1.10s/it]\n",
      "Generating embeddings: 100%|██████████| 9/9 [00:05<00:00,  1.58it/s]\n",
      "Generating embeddings: 100%|██████████| 11/11 [00:16<00:00,  1.52s/it]\n",
      "Generating embeddings: 100%|██████████| 15/15 [00:07<00:00,  2.04it/s]\n",
      "Generating embeddings: 100%|██████████| 13/13 [00:28<00:00,  2.20s/it]\n",
      "Generating embeddings: 100%|██████████| 12/12 [00:36<00:00,  3.01s/it]\n",
      "Generating embeddings: 100%|██████████| 1/1 [00:00<00:00,  2.39it/s]\n",
      "Generating embeddings: 100%|██████████| 13/13 [00:06<00:00,  1.93it/s]\n",
      "Generating embeddings: 100%|██████████| 16/16 [00:08<00:00,  1.89it/s]\n",
      "Generating embeddings: 100%|██████████| 11/11 [00:05<00:00,  2.19it/s]\n",
      "Generating embeddings: 100%|██████████| 11/11 [00:04<00:00,  2.27it/s]\n",
      "Generating embeddings: 100%|██████████| 12/12 [00:05<00:00,  2.17it/s]\n",
      "Generating embeddings: 100%|██████████| 13/13 [00:06<00:00,  2.06it/s]\n",
      "Generating embeddings: 100%|██████████| 14/14 [00:06<00:00,  2.17it/s]\n",
      "Generating embeddings: 100%|██████████| 10/10 [00:04<00:00,  2.17it/s]\n",
      "Generating embeddings: 100%|██████████| 14/14 [00:06<00:00,  2.03it/s]\n",
      "Generating embeddings: 100%|██████████| 12/12 [00:05<00:00,  2.12it/s]\n",
      "Generating embeddings: 100%|██████████| 10/10 [00:04<00:00,  2.05it/s]\n",
      "Generating embeddings: 100%|██████████| 15/15 [00:07<00:00,  2.13it/s]\n",
      "Generating embeddings: 100%|██████████| 6/6 [00:02<00:00,  2.03it/s]\n",
      "Generating embeddings: 100%|██████████| 13/13 [00:06<00:00,  2.15it/s]\n",
      "Generating embeddings: 100%|██████████| 7/7 [00:03<00:00,  2.14it/s]\n",
      "Generating embeddings: 100%|██████████| 4/4 [00:02<00:00,  1.96it/s]\n",
      "Generating embeddings: 100%|██████████| 20/20 [00:09<00:00,  2.04it/s]\n",
      "Generating embeddings: 100%|██████████| 13/13 [00:06<00:00,  2.14it/s]\n",
      "Generating embeddings: 100%|██████████| 6/6 [00:02<00:00,  2.10it/s]\n",
      "Generating embeddings: 100%|██████████| 18/18 [00:09<00:00,  1.95it/s]\n",
      "Generating embeddings: 100%|██████████| 19/19 [00:09<00:00,  1.99it/s]\n",
      "Generating embeddings: 100%|██████████| 17/17 [00:08<00:00,  2.08it/s]\n",
      "Generating embeddings: 100%|██████████| 8/8 [00:03<00:00,  2.12it/s]\n",
      "Generating embeddings: 100%|██████████| 12/12 [00:05<00:00,  2.16it/s]\n",
      "Generating embeddings: 100%|██████████| 14/14 [00:06<00:00,  2.15it/s]\n",
      "Generating embeddings: 100%|██████████| 7/7 [00:03<00:00,  2.04it/s]\n",
      "Generating embeddings: 100%|██████████| 9/9 [00:04<00:00,  2.15it/s]\n",
      "Generating embeddings: 100%|██████████| 8/8 [00:03<00:00,  2.12it/s]\n",
      "Generating embeddings: 100%|██████████| 11/11 [00:07<00:00,  1.55it/s]\n",
      "Generating embeddings: 100%|██████████| 9/9 [00:04<00:00,  2.01it/s]\n",
      "Generating embeddings: 100%|██████████| 11/11 [00:05<00:00,  2.15it/s]\n",
      "Generating embeddings: 100%|██████████| 14/14 [00:06<00:00,  2.02it/s]\n",
      "Generating embeddings: 100%|██████████| 14/14 [00:06<00:00,  2.21it/s]\n",
      "Generating embeddings: 100%|██████████| 12/12 [00:05<00:00,  2.30it/s]\n",
      "Generating embeddings: 100%|██████████| 14/14 [00:06<00:00,  2.22it/s]\n",
      "Generating embeddings: 100%|██████████| 13/13 [00:05<00:00,  2.19it/s]\n",
      "Generating embeddings: 100%|██████████| 14/14 [00:07<00:00,  1.94it/s]\n",
      "Generating embeddings: 100%|██████████| 12/12 [00:05<00:00,  2.04it/s]\n",
      "Generating embeddings: 100%|██████████| 14/14 [00:06<00:00,  2.07it/s]\n",
      "Generating embeddings: 100%|██████████| 13/13 [00:06<00:00,  2.11it/s]\n",
      "Generating embeddings: 100%|██████████| 12/12 [00:05<00:00,  2.18it/s]\n",
      "Generating embeddings: 100%|██████████| 9/9 [00:04<00:00,  2.10it/s]\n",
      "Generating embeddings: 100%|██████████| 9/9 [00:04<00:00,  2.15it/s]\n",
      "Generating embeddings: 100%|██████████| 17/17 [00:07<00:00,  2.21it/s]\n",
      "Generating embeddings: 100%|██████████| 7/7 [00:03<00:00,  2.03it/s]\n",
      "Generating embeddings: 100%|██████████| 12/12 [00:05<00:00,  2.21it/s]\n",
      "Generating embeddings: 100%|██████████| 12/12 [00:05<00:00,  2.19it/s]\n",
      "Generating embeddings: 100%|██████████| 13/13 [00:06<00:00,  2.09it/s]\n",
      "Generating embeddings: 100%|██████████| 16/16 [00:07<00:00,  2.17it/s]\n",
      "Generating embeddings: 100%|██████████| 13/13 [00:06<00:00,  2.10it/s]\n",
      "Generating embeddings: 100%|██████████| 7/7 [00:03<00:00,  2.07it/s]\n",
      "Generating embeddings: 100%|██████████| 3/3 [00:01<00:00,  2.20it/s]\n",
      "Generating embeddings: 100%|██████████| 10/10 [00:04<00:00,  2.29it/s]\n",
      "Generating embeddings: 100%|██████████| 12/12 [00:05<00:00,  2.06it/s]\n",
      "Generating embeddings: 100%|██████████| 12/12 [00:05<00:00,  2.28it/s]\n",
      "Generating embeddings: 100%|██████████| 12/12 [00:05<00:00,  2.27it/s]\n",
      "Generating embeddings: 0it [00:00, ?it/s]25:11<00:04,  5.00s/it]\n",
      "Parsing nodes: 100%|██████████| 263/263 [25:11<00:00,  5.75s/it]\n"
     ]
    }
   ],
   "source": [
    "embed_model = GeminiEmbedding(\n",
    "    model_name=\"models/embedding-001\", api_key=GOOGLE_API_KEY\n",
    ")\n",
    "splitter = SemanticSplitterNodeParser(\n",
    "    buffer_size=1, \n",
    "    breakpoint_percentile_threshold=95, \n",
    "    embed_model=embed_model\n",
    ")\n",
    "nodes = splitter.get_nodes_from_documents(documents, show_progress=True)"
   ]
  },
  {
   "cell_type": "code",
   "execution_count": 6,
   "metadata": {},
   "outputs": [],
   "source": [
    "llm = Groq(model=\"mixtral-8x7b-32768\", api_key=GROQ_API_KEY)"
   ]
  },
  {
   "cell_type": "code",
   "execution_count": 7,
   "metadata": {},
   "outputs": [
    {
     "name": "stderr",
     "output_type": "stream",
     "text": [
      "/var/folders/bq/8r1z9mwx1d539hkkgfdbjzjc0000gq/T/ipykernel_19409/59880135.py:1: DeprecationWarning: Call to deprecated class method from_defaults. (ServiceContext is deprecated, please use `llama_index.settings.Settings` instead.) -- Deprecated since version 0.10.0.\n",
      "  service_context = ServiceContext.from_defaults(embed_model=embed_model, llm=llm)\n"
     ]
    }
   ],
   "source": [
    "service_context = ServiceContext.from_defaults(embed_model=embed_model, llm=llm)"
   ]
  },
  {
   "cell_type": "code",
   "execution_count": 8,
   "metadata": {},
   "outputs": [
    {
     "name": "stderr",
     "output_type": "stream",
     "text": [
      "Parsing nodes:   0%|          | 0/263 [00:00<?, ?it/s]"
     ]
    },
    {
     "name": "stderr",
     "output_type": "stream",
     "text": [
      "Parsing nodes: 100%|██████████| 263/263 [00:00<00:00, 561.54it/s]\n",
      "Generating embeddings: 100%|██████████| 268/268 [02:25<00:00,  1.84it/s]\n"
     ]
    }
   ],
   "source": [
    "vector_index = VectorStoreIndex.from_documents(documents, show_progress=True, \n",
    "               service_context=service_context, node_parser=nodes)"
   ]
  },
  {
   "cell_type": "code",
   "execution_count": 9,
   "metadata": {},
   "outputs": [],
   "source": [
    "vector_index.storage_context.persist(persist_dir=\"./storage\")"
   ]
  },
  {
   "cell_type": "code",
   "execution_count": 10,
   "metadata": {},
   "outputs": [],
   "source": [
    "storage_context = StorageContext.from_defaults(persist_dir=\"./storage\")"
   ]
  },
  {
   "cell_type": "code",
   "execution_count": 11,
   "metadata": {},
   "outputs": [],
   "source": [
    "index = load_index_from_storage(storage_context, service_context=service_context)"
   ]
  },
  {
   "cell_type": "code",
   "execution_count": 12,
   "metadata": {},
   "outputs": [],
   "source": [
    "cohere_rerank = CohereRerank(api_key=COHERE_API_KEY, top_n=2)"
   ]
  },
  {
   "cell_type": "code",
   "execution_count": 13,
   "metadata": {},
   "outputs": [],
   "source": [
    "query_engine = index.as_query_engine(service_context=service_context,\n",
    "                similarity_top_k=10,\n",
    "                node_postprocessors=[cohere_rerank],)"
   ]
  },
  {
   "cell_type": "code",
   "execution_count": 14,
   "metadata": {},
   "outputs": [
    {
     "ename": "CohereAPIError",
     "evalue": "invalid request: list of documents must not contain only empty strings or only whitespace",
     "output_type": "error",
     "traceback": [
      "\u001b[0;31m---------------------------------------------------------------------------\u001b[0m",
      "\u001b[0;31mCohereAPIError\u001b[0m                            Traceback (most recent call last)",
      "Cell \u001b[0;32mIn[14], line 2\u001b[0m\n\u001b[1;32m      1\u001b[0m query \u001b[38;5;241m=\u001b[39m \u001b[38;5;124m\"\u001b[39m\u001b[38;5;124mSummarize all the documents\u001b[39m\u001b[38;5;124m\"\u001b[39m\n\u001b[0;32m----> 2\u001b[0m resp \u001b[38;5;241m=\u001b[39m \u001b[43mquery_engine\u001b[49m\u001b[38;5;241;43m.\u001b[39;49m\u001b[43mquery\u001b[49m\u001b[43m(\u001b[49m\u001b[43mquery\u001b[49m\u001b[43m)\u001b[49m\n",
      "File \u001b[0;32m~/vs-code-projects/ex-rag/.venv/lib/python3.12/site-packages/llama_index/core/instrumentation/dispatcher.py:102\u001b[0m, in \u001b[0;36mDispatcher.span.<locals>.wrapper\u001b[0;34m(*args, **kwargs)\u001b[0m\n\u001b[1;32m    100\u001b[0m     result \u001b[38;5;241m=\u001b[39m func(\u001b[38;5;241m*\u001b[39margs, \u001b[38;5;241m*\u001b[39m\u001b[38;5;241m*\u001b[39mkwargs)\n\u001b[1;32m    101\u001b[0m \u001b[38;5;28;01mexcept\u001b[39;00m \u001b[38;5;167;01mException\u001b[39;00m \u001b[38;5;28;01mas\u001b[39;00m e:\n\u001b[0;32m--> 102\u001b[0m     \u001b[38;5;28;43mself\u001b[39;49m\u001b[38;5;241;43m.\u001b[39;49m\u001b[43mspan_drop\u001b[49m\u001b[43m(\u001b[49m\u001b[38;5;241;43m*\u001b[39;49m\u001b[43margs\u001b[49m\u001b[43m,\u001b[49m\u001b[43m \u001b[49m\u001b[38;5;28;43mid\u001b[39;49m\u001b[38;5;241;43m=\u001b[39;49m\u001b[38;5;28;43mid\u001b[39;49m\u001b[43m,\u001b[49m\u001b[43m \u001b[49m\u001b[43merr\u001b[49m\u001b[38;5;241;43m=\u001b[39;49m\u001b[43me\u001b[49m\u001b[43m,\u001b[49m\u001b[43m \u001b[49m\u001b[38;5;241;43m*\u001b[39;49m\u001b[38;5;241;43m*\u001b[39;49m\u001b[43mkwargs\u001b[49m\u001b[43m)\u001b[49m\n\u001b[1;32m    103\u001b[0m \u001b[38;5;28;01melse\u001b[39;00m:\n\u001b[1;32m    104\u001b[0m     \u001b[38;5;28mself\u001b[39m\u001b[38;5;241m.\u001b[39mspan_exit(\u001b[38;5;241m*\u001b[39margs, \u001b[38;5;28mid\u001b[39m\u001b[38;5;241m=\u001b[39m\u001b[38;5;28mid\u001b[39m, result\u001b[38;5;241m=\u001b[39mresult, \u001b[38;5;241m*\u001b[39m\u001b[38;5;241m*\u001b[39mkwargs)\n",
      "File \u001b[0;32m~/vs-code-projects/ex-rag/.venv/lib/python3.12/site-packages/llama_index/core/instrumentation/dispatcher.py:77\u001b[0m, in \u001b[0;36mDispatcher.span_drop\u001b[0;34m(self, id, err, *args, **kwargs)\u001b[0m\n\u001b[1;32m     75\u001b[0m \u001b[38;5;28;01mwhile\u001b[39;00m c:\n\u001b[1;32m     76\u001b[0m     \u001b[38;5;28;01mfor\u001b[39;00m h \u001b[38;5;129;01min\u001b[39;00m c\u001b[38;5;241m.\u001b[39mspan_handlers:\n\u001b[0;32m---> 77\u001b[0m         \u001b[43mh\u001b[49m\u001b[38;5;241;43m.\u001b[39;49m\u001b[43mspan_drop\u001b[49m\u001b[43m(\u001b[49m\u001b[38;5;241;43m*\u001b[39;49m\u001b[43margs\u001b[49m\u001b[43m,\u001b[49m\u001b[43m \u001b[49m\u001b[38;5;28;43mid\u001b[39;49m\u001b[38;5;241;43m=\u001b[39;49m\u001b[38;5;28;43mid\u001b[39;49m\u001b[43m,\u001b[49m\u001b[43m \u001b[49m\u001b[43merr\u001b[49m\u001b[38;5;241;43m=\u001b[39;49m\u001b[43merr\u001b[49m\u001b[43m,\u001b[49m\u001b[43m \u001b[49m\u001b[38;5;241;43m*\u001b[39;49m\u001b[38;5;241;43m*\u001b[39;49m\u001b[43mkwargs\u001b[49m\u001b[43m)\u001b[49m\n\u001b[1;32m     78\u001b[0m     \u001b[38;5;28;01mif\u001b[39;00m \u001b[38;5;129;01mnot\u001b[39;00m c\u001b[38;5;241m.\u001b[39mpropagate:\n\u001b[1;32m     79\u001b[0m         c \u001b[38;5;241m=\u001b[39m \u001b[38;5;28;01mNone\u001b[39;00m\n",
      "File \u001b[0;32m~/vs-code-projects/ex-rag/.venv/lib/python3.12/site-packages/llama_index/core/instrumentation/span_handlers/base.py:48\u001b[0m, in \u001b[0;36mBaseSpanHandler.span_drop\u001b[0;34m(self, id, err, *args, **kwargs)\u001b[0m\n\u001b[1;32m     46\u001b[0m \u001b[38;5;28;01mdef\u001b[39;00m \u001b[38;5;21mspan_drop\u001b[39m(\u001b[38;5;28mself\u001b[39m, \u001b[38;5;241m*\u001b[39margs, \u001b[38;5;28mid\u001b[39m: \u001b[38;5;28mstr\u001b[39m, err: Optional[\u001b[38;5;167;01mException\u001b[39;00m], \u001b[38;5;241m*\u001b[39m\u001b[38;5;241m*\u001b[39mkwargs) \u001b[38;5;241m-\u001b[39m\u001b[38;5;241m>\u001b[39m \u001b[38;5;28;01mNone\u001b[39;00m:\n\u001b[1;32m     47\u001b[0m \u001b[38;5;250m    \u001b[39m\u001b[38;5;124;03m\"\"\"Logic for dropping a span i.e. early exit.\"\"\"\u001b[39;00m\n\u001b[0;32m---> 48\u001b[0m     span \u001b[38;5;241m=\u001b[39m \u001b[38;5;28;43mself\u001b[39;49m\u001b[38;5;241;43m.\u001b[39;49m\u001b[43mprepare_to_drop_span\u001b[49m\u001b[43m(\u001b[49m\u001b[38;5;241;43m*\u001b[39;49m\u001b[43margs\u001b[49m\u001b[43m,\u001b[49m\u001b[43m \u001b[49m\u001b[38;5;28;43mid\u001b[39;49m\u001b[38;5;241;43m=\u001b[39;49m\u001b[38;5;28;43mid\u001b[39;49m\u001b[43m,\u001b[49m\u001b[43m \u001b[49m\u001b[43merr\u001b[49m\u001b[38;5;241;43m=\u001b[39;49m\u001b[43merr\u001b[49m\u001b[43m,\u001b[49m\u001b[43m \u001b[49m\u001b[38;5;241;43m*\u001b[39;49m\u001b[38;5;241;43m*\u001b[39;49m\u001b[43mkwargs\u001b[49m\u001b[43m)\u001b[49m\n\u001b[1;32m     49\u001b[0m     \u001b[38;5;28;01mif\u001b[39;00m span:\n\u001b[1;32m     50\u001b[0m         \u001b[38;5;28;01mif\u001b[39;00m \u001b[38;5;28mself\u001b[39m\u001b[38;5;241m.\u001b[39mcurrent_span_id \u001b[38;5;241m==\u001b[39m \u001b[38;5;28mid\u001b[39m:\n",
      "File \u001b[0;32m~/vs-code-projects/ex-rag/.venv/lib/python3.12/site-packages/llama_index/core/instrumentation/span_handlers/null.py:35\u001b[0m, in \u001b[0;36mNullSpanHandler.prepare_to_drop_span\u001b[0;34m(self, id, err, *args, **kwargs)\u001b[0m\n\u001b[1;32m     33\u001b[0m \u001b[38;5;250m\u001b[39m\u001b[38;5;124;03m\"\"\"Logic for droppping a span.\"\"\"\u001b[39;00m\n\u001b[1;32m     34\u001b[0m \u001b[38;5;28;01mif\u001b[39;00m err:\n\u001b[0;32m---> 35\u001b[0m     \u001b[38;5;28;01mraise\u001b[39;00m err\n",
      "File \u001b[0;32m~/vs-code-projects/ex-rag/.venv/lib/python3.12/site-packages/llama_index/core/instrumentation/dispatcher.py:100\u001b[0m, in \u001b[0;36mDispatcher.span.<locals>.wrapper\u001b[0;34m(*args, **kwargs)\u001b[0m\n\u001b[1;32m     98\u001b[0m \u001b[38;5;28mself\u001b[39m\u001b[38;5;241m.\u001b[39mspan_enter(\u001b[38;5;241m*\u001b[39margs, \u001b[38;5;28mid\u001b[39m\u001b[38;5;241m=\u001b[39m\u001b[38;5;28mid\u001b[39m, \u001b[38;5;241m*\u001b[39m\u001b[38;5;241m*\u001b[39mkwargs)\n\u001b[1;32m     99\u001b[0m \u001b[38;5;28;01mtry\u001b[39;00m:\n\u001b[0;32m--> 100\u001b[0m     result \u001b[38;5;241m=\u001b[39m \u001b[43mfunc\u001b[49m\u001b[43m(\u001b[49m\u001b[38;5;241;43m*\u001b[39;49m\u001b[43margs\u001b[49m\u001b[43m,\u001b[49m\u001b[43m \u001b[49m\u001b[38;5;241;43m*\u001b[39;49m\u001b[38;5;241;43m*\u001b[39;49m\u001b[43mkwargs\u001b[49m\u001b[43m)\u001b[49m\n\u001b[1;32m    101\u001b[0m \u001b[38;5;28;01mexcept\u001b[39;00m \u001b[38;5;167;01mException\u001b[39;00m \u001b[38;5;28;01mas\u001b[39;00m e:\n\u001b[1;32m    102\u001b[0m     \u001b[38;5;28mself\u001b[39m\u001b[38;5;241m.\u001b[39mspan_drop(\u001b[38;5;241m*\u001b[39margs, \u001b[38;5;28mid\u001b[39m\u001b[38;5;241m=\u001b[39m\u001b[38;5;28mid\u001b[39m, err\u001b[38;5;241m=\u001b[39me, \u001b[38;5;241m*\u001b[39m\u001b[38;5;241m*\u001b[39mkwargs)\n",
      "File \u001b[0;32m~/vs-code-projects/ex-rag/.venv/lib/python3.12/site-packages/llama_index/core/base/base_query_engine.py:51\u001b[0m, in \u001b[0;36mBaseQueryEngine.query\u001b[0;34m(self, str_or_query_bundle)\u001b[0m\n\u001b[1;32m     49\u001b[0m     \u001b[38;5;28;01mif\u001b[39;00m \u001b[38;5;28misinstance\u001b[39m(str_or_query_bundle, \u001b[38;5;28mstr\u001b[39m):\n\u001b[1;32m     50\u001b[0m         str_or_query_bundle \u001b[38;5;241m=\u001b[39m QueryBundle(str_or_query_bundle)\n\u001b[0;32m---> 51\u001b[0m     query_result \u001b[38;5;241m=\u001b[39m \u001b[38;5;28;43mself\u001b[39;49m\u001b[38;5;241;43m.\u001b[39;49m\u001b[43m_query\u001b[49m\u001b[43m(\u001b[49m\u001b[43mstr_or_query_bundle\u001b[49m\u001b[43m)\u001b[49m\n\u001b[1;32m     52\u001b[0m dispatcher\u001b[38;5;241m.\u001b[39mevent(QueryEndEvent())\n\u001b[1;32m     53\u001b[0m \u001b[38;5;28;01mreturn\u001b[39;00m query_result\n",
      "File \u001b[0;32m~/vs-code-projects/ex-rag/.venv/lib/python3.12/site-packages/llama_index/core/instrumentation/dispatcher.py:102\u001b[0m, in \u001b[0;36mDispatcher.span.<locals>.wrapper\u001b[0;34m(*args, **kwargs)\u001b[0m\n\u001b[1;32m    100\u001b[0m     result \u001b[38;5;241m=\u001b[39m func(\u001b[38;5;241m*\u001b[39margs, \u001b[38;5;241m*\u001b[39m\u001b[38;5;241m*\u001b[39mkwargs)\n\u001b[1;32m    101\u001b[0m \u001b[38;5;28;01mexcept\u001b[39;00m \u001b[38;5;167;01mException\u001b[39;00m \u001b[38;5;28;01mas\u001b[39;00m e:\n\u001b[0;32m--> 102\u001b[0m     \u001b[38;5;28;43mself\u001b[39;49m\u001b[38;5;241;43m.\u001b[39;49m\u001b[43mspan_drop\u001b[49m\u001b[43m(\u001b[49m\u001b[38;5;241;43m*\u001b[39;49m\u001b[43margs\u001b[49m\u001b[43m,\u001b[49m\u001b[43m \u001b[49m\u001b[38;5;28;43mid\u001b[39;49m\u001b[38;5;241;43m=\u001b[39;49m\u001b[38;5;28;43mid\u001b[39;49m\u001b[43m,\u001b[49m\u001b[43m \u001b[49m\u001b[43merr\u001b[49m\u001b[38;5;241;43m=\u001b[39;49m\u001b[43me\u001b[49m\u001b[43m,\u001b[49m\u001b[43m \u001b[49m\u001b[38;5;241;43m*\u001b[39;49m\u001b[38;5;241;43m*\u001b[39;49m\u001b[43mkwargs\u001b[49m\u001b[43m)\u001b[49m\n\u001b[1;32m    103\u001b[0m \u001b[38;5;28;01melse\u001b[39;00m:\n\u001b[1;32m    104\u001b[0m     \u001b[38;5;28mself\u001b[39m\u001b[38;5;241m.\u001b[39mspan_exit(\u001b[38;5;241m*\u001b[39margs, \u001b[38;5;28mid\u001b[39m\u001b[38;5;241m=\u001b[39m\u001b[38;5;28mid\u001b[39m, result\u001b[38;5;241m=\u001b[39mresult, \u001b[38;5;241m*\u001b[39m\u001b[38;5;241m*\u001b[39mkwargs)\n",
      "File \u001b[0;32m~/vs-code-projects/ex-rag/.venv/lib/python3.12/site-packages/llama_index/core/instrumentation/dispatcher.py:77\u001b[0m, in \u001b[0;36mDispatcher.span_drop\u001b[0;34m(self, id, err, *args, **kwargs)\u001b[0m\n\u001b[1;32m     75\u001b[0m \u001b[38;5;28;01mwhile\u001b[39;00m c:\n\u001b[1;32m     76\u001b[0m     \u001b[38;5;28;01mfor\u001b[39;00m h \u001b[38;5;129;01min\u001b[39;00m c\u001b[38;5;241m.\u001b[39mspan_handlers:\n\u001b[0;32m---> 77\u001b[0m         \u001b[43mh\u001b[49m\u001b[38;5;241;43m.\u001b[39;49m\u001b[43mspan_drop\u001b[49m\u001b[43m(\u001b[49m\u001b[38;5;241;43m*\u001b[39;49m\u001b[43margs\u001b[49m\u001b[43m,\u001b[49m\u001b[43m \u001b[49m\u001b[38;5;28;43mid\u001b[39;49m\u001b[38;5;241;43m=\u001b[39;49m\u001b[38;5;28;43mid\u001b[39;49m\u001b[43m,\u001b[49m\u001b[43m \u001b[49m\u001b[43merr\u001b[49m\u001b[38;5;241;43m=\u001b[39;49m\u001b[43merr\u001b[49m\u001b[43m,\u001b[49m\u001b[43m \u001b[49m\u001b[38;5;241;43m*\u001b[39;49m\u001b[38;5;241;43m*\u001b[39;49m\u001b[43mkwargs\u001b[49m\u001b[43m)\u001b[49m\n\u001b[1;32m     78\u001b[0m     \u001b[38;5;28;01mif\u001b[39;00m \u001b[38;5;129;01mnot\u001b[39;00m c\u001b[38;5;241m.\u001b[39mpropagate:\n\u001b[1;32m     79\u001b[0m         c \u001b[38;5;241m=\u001b[39m \u001b[38;5;28;01mNone\u001b[39;00m\n",
      "File \u001b[0;32m~/vs-code-projects/ex-rag/.venv/lib/python3.12/site-packages/llama_index/core/instrumentation/span_handlers/base.py:48\u001b[0m, in \u001b[0;36mBaseSpanHandler.span_drop\u001b[0;34m(self, id, err, *args, **kwargs)\u001b[0m\n\u001b[1;32m     46\u001b[0m \u001b[38;5;28;01mdef\u001b[39;00m \u001b[38;5;21mspan_drop\u001b[39m(\u001b[38;5;28mself\u001b[39m, \u001b[38;5;241m*\u001b[39margs, \u001b[38;5;28mid\u001b[39m: \u001b[38;5;28mstr\u001b[39m, err: Optional[\u001b[38;5;167;01mException\u001b[39;00m], \u001b[38;5;241m*\u001b[39m\u001b[38;5;241m*\u001b[39mkwargs) \u001b[38;5;241m-\u001b[39m\u001b[38;5;241m>\u001b[39m \u001b[38;5;28;01mNone\u001b[39;00m:\n\u001b[1;32m     47\u001b[0m \u001b[38;5;250m    \u001b[39m\u001b[38;5;124;03m\"\"\"Logic for dropping a span i.e. early exit.\"\"\"\u001b[39;00m\n\u001b[0;32m---> 48\u001b[0m     span \u001b[38;5;241m=\u001b[39m \u001b[38;5;28;43mself\u001b[39;49m\u001b[38;5;241;43m.\u001b[39;49m\u001b[43mprepare_to_drop_span\u001b[49m\u001b[43m(\u001b[49m\u001b[38;5;241;43m*\u001b[39;49m\u001b[43margs\u001b[49m\u001b[43m,\u001b[49m\u001b[43m \u001b[49m\u001b[38;5;28;43mid\u001b[39;49m\u001b[38;5;241;43m=\u001b[39;49m\u001b[38;5;28;43mid\u001b[39;49m\u001b[43m,\u001b[49m\u001b[43m \u001b[49m\u001b[43merr\u001b[49m\u001b[38;5;241;43m=\u001b[39;49m\u001b[43merr\u001b[49m\u001b[43m,\u001b[49m\u001b[43m \u001b[49m\u001b[38;5;241;43m*\u001b[39;49m\u001b[38;5;241;43m*\u001b[39;49m\u001b[43mkwargs\u001b[49m\u001b[43m)\u001b[49m\n\u001b[1;32m     49\u001b[0m     \u001b[38;5;28;01mif\u001b[39;00m span:\n\u001b[1;32m     50\u001b[0m         \u001b[38;5;28;01mif\u001b[39;00m \u001b[38;5;28mself\u001b[39m\u001b[38;5;241m.\u001b[39mcurrent_span_id \u001b[38;5;241m==\u001b[39m \u001b[38;5;28mid\u001b[39m:\n",
      "File \u001b[0;32m~/vs-code-projects/ex-rag/.venv/lib/python3.12/site-packages/llama_index/core/instrumentation/span_handlers/null.py:35\u001b[0m, in \u001b[0;36mNullSpanHandler.prepare_to_drop_span\u001b[0;34m(self, id, err, *args, **kwargs)\u001b[0m\n\u001b[1;32m     33\u001b[0m \u001b[38;5;250m\u001b[39m\u001b[38;5;124;03m\"\"\"Logic for droppping a span.\"\"\"\u001b[39;00m\n\u001b[1;32m     34\u001b[0m \u001b[38;5;28;01mif\u001b[39;00m err:\n\u001b[0;32m---> 35\u001b[0m     \u001b[38;5;28;01mraise\u001b[39;00m err\n",
      "File \u001b[0;32m~/vs-code-projects/ex-rag/.venv/lib/python3.12/site-packages/llama_index/core/instrumentation/dispatcher.py:100\u001b[0m, in \u001b[0;36mDispatcher.span.<locals>.wrapper\u001b[0;34m(*args, **kwargs)\u001b[0m\n\u001b[1;32m     98\u001b[0m \u001b[38;5;28mself\u001b[39m\u001b[38;5;241m.\u001b[39mspan_enter(\u001b[38;5;241m*\u001b[39margs, \u001b[38;5;28mid\u001b[39m\u001b[38;5;241m=\u001b[39m\u001b[38;5;28mid\u001b[39m, \u001b[38;5;241m*\u001b[39m\u001b[38;5;241m*\u001b[39mkwargs)\n\u001b[1;32m     99\u001b[0m \u001b[38;5;28;01mtry\u001b[39;00m:\n\u001b[0;32m--> 100\u001b[0m     result \u001b[38;5;241m=\u001b[39m \u001b[43mfunc\u001b[49m\u001b[43m(\u001b[49m\u001b[38;5;241;43m*\u001b[39;49m\u001b[43margs\u001b[49m\u001b[43m,\u001b[49m\u001b[43m \u001b[49m\u001b[38;5;241;43m*\u001b[39;49m\u001b[38;5;241;43m*\u001b[39;49m\u001b[43mkwargs\u001b[49m\u001b[43m)\u001b[49m\n\u001b[1;32m    101\u001b[0m \u001b[38;5;28;01mexcept\u001b[39;00m \u001b[38;5;167;01mException\u001b[39;00m \u001b[38;5;28;01mas\u001b[39;00m e:\n\u001b[1;32m    102\u001b[0m     \u001b[38;5;28mself\u001b[39m\u001b[38;5;241m.\u001b[39mspan_drop(\u001b[38;5;241m*\u001b[39margs, \u001b[38;5;28mid\u001b[39m\u001b[38;5;241m=\u001b[39m\u001b[38;5;28mid\u001b[39m, err\u001b[38;5;241m=\u001b[39me, \u001b[38;5;241m*\u001b[39m\u001b[38;5;241m*\u001b[39mkwargs)\n",
      "File \u001b[0;32m~/vs-code-projects/ex-rag/.venv/lib/python3.12/site-packages/llama_index/core/query_engine/retriever_query_engine.py:189\u001b[0m, in \u001b[0;36mRetrieverQueryEngine._query\u001b[0;34m(self, query_bundle)\u001b[0m\n\u001b[1;32m    185\u001b[0m \u001b[38;5;250m\u001b[39m\u001b[38;5;124;03m\"\"\"Answer a query.\"\"\"\u001b[39;00m\n\u001b[1;32m    186\u001b[0m \u001b[38;5;28;01mwith\u001b[39;00m \u001b[38;5;28mself\u001b[39m\u001b[38;5;241m.\u001b[39mcallback_manager\u001b[38;5;241m.\u001b[39mevent(\n\u001b[1;32m    187\u001b[0m     CBEventType\u001b[38;5;241m.\u001b[39mQUERY, payload\u001b[38;5;241m=\u001b[39m{EventPayload\u001b[38;5;241m.\u001b[39mQUERY_STR: query_bundle\u001b[38;5;241m.\u001b[39mquery_str}\n\u001b[1;32m    188\u001b[0m ) \u001b[38;5;28;01mas\u001b[39;00m query_event:\n\u001b[0;32m--> 189\u001b[0m     nodes \u001b[38;5;241m=\u001b[39m \u001b[38;5;28;43mself\u001b[39;49m\u001b[38;5;241;43m.\u001b[39;49m\u001b[43mretrieve\u001b[49m\u001b[43m(\u001b[49m\u001b[43mquery_bundle\u001b[49m\u001b[43m)\u001b[49m\n\u001b[1;32m    190\u001b[0m     response \u001b[38;5;241m=\u001b[39m \u001b[38;5;28mself\u001b[39m\u001b[38;5;241m.\u001b[39m_response_synthesizer\u001b[38;5;241m.\u001b[39msynthesize(\n\u001b[1;32m    191\u001b[0m         query\u001b[38;5;241m=\u001b[39mquery_bundle,\n\u001b[1;32m    192\u001b[0m         nodes\u001b[38;5;241m=\u001b[39mnodes,\n\u001b[1;32m    193\u001b[0m     )\n\u001b[1;32m    194\u001b[0m     query_event\u001b[38;5;241m.\u001b[39mon_end(payload\u001b[38;5;241m=\u001b[39m{EventPayload\u001b[38;5;241m.\u001b[39mRESPONSE: response})\n",
      "File \u001b[0;32m~/vs-code-projects/ex-rag/.venv/lib/python3.12/site-packages/llama_index/core/query_engine/retriever_query_engine.py:145\u001b[0m, in \u001b[0;36mRetrieverQueryEngine.retrieve\u001b[0;34m(self, query_bundle)\u001b[0m\n\u001b[1;32m    143\u001b[0m \u001b[38;5;28;01mdef\u001b[39;00m \u001b[38;5;21mretrieve\u001b[39m(\u001b[38;5;28mself\u001b[39m, query_bundle: QueryBundle) \u001b[38;5;241m-\u001b[39m\u001b[38;5;241m>\u001b[39m List[NodeWithScore]:\n\u001b[1;32m    144\u001b[0m     nodes \u001b[38;5;241m=\u001b[39m \u001b[38;5;28mself\u001b[39m\u001b[38;5;241m.\u001b[39m_retriever\u001b[38;5;241m.\u001b[39mretrieve(query_bundle)\n\u001b[0;32m--> 145\u001b[0m     \u001b[38;5;28;01mreturn\u001b[39;00m \u001b[38;5;28;43mself\u001b[39;49m\u001b[38;5;241;43m.\u001b[39;49m\u001b[43m_apply_node_postprocessors\u001b[49m\u001b[43m(\u001b[49m\u001b[43mnodes\u001b[49m\u001b[43m,\u001b[49m\u001b[43m \u001b[49m\u001b[43mquery_bundle\u001b[49m\u001b[38;5;241;43m=\u001b[39;49m\u001b[43mquery_bundle\u001b[49m\u001b[43m)\u001b[49m\n",
      "File \u001b[0;32m~/vs-code-projects/ex-rag/.venv/lib/python3.12/site-packages/llama_index/core/query_engine/retriever_query_engine.py:138\u001b[0m, in \u001b[0;36mRetrieverQueryEngine._apply_node_postprocessors\u001b[0;34m(self, nodes, query_bundle)\u001b[0m\n\u001b[1;32m    134\u001b[0m \u001b[38;5;28;01mdef\u001b[39;00m \u001b[38;5;21m_apply_node_postprocessors\u001b[39m(\n\u001b[1;32m    135\u001b[0m     \u001b[38;5;28mself\u001b[39m, nodes: List[NodeWithScore], query_bundle: QueryBundle\n\u001b[1;32m    136\u001b[0m ) \u001b[38;5;241m-\u001b[39m\u001b[38;5;241m>\u001b[39m List[NodeWithScore]:\n\u001b[1;32m    137\u001b[0m     \u001b[38;5;28;01mfor\u001b[39;00m node_postprocessor \u001b[38;5;129;01min\u001b[39;00m \u001b[38;5;28mself\u001b[39m\u001b[38;5;241m.\u001b[39m_node_postprocessors:\n\u001b[0;32m--> 138\u001b[0m         nodes \u001b[38;5;241m=\u001b[39m \u001b[43mnode_postprocessor\u001b[49m\u001b[38;5;241;43m.\u001b[39;49m\u001b[43mpostprocess_nodes\u001b[49m\u001b[43m(\u001b[49m\n\u001b[1;32m    139\u001b[0m \u001b[43m            \u001b[49m\u001b[43mnodes\u001b[49m\u001b[43m,\u001b[49m\u001b[43m \u001b[49m\u001b[43mquery_bundle\u001b[49m\u001b[38;5;241;43m=\u001b[39;49m\u001b[43mquery_bundle\u001b[49m\n\u001b[1;32m    140\u001b[0m \u001b[43m        \u001b[49m\u001b[43m)\u001b[49m\n\u001b[1;32m    141\u001b[0m     \u001b[38;5;28;01mreturn\u001b[39;00m nodes\n",
      "File \u001b[0;32m~/vs-code-projects/ex-rag/.venv/lib/python3.12/site-packages/llama_index/core/postprocessor/types.py:55\u001b[0m, in \u001b[0;36mBaseNodePostprocessor.postprocess_nodes\u001b[0;34m(self, nodes, query_bundle, query_str)\u001b[0m\n\u001b[1;32m     53\u001b[0m \u001b[38;5;28;01melse\u001b[39;00m:\n\u001b[1;32m     54\u001b[0m     \u001b[38;5;28;01mpass\u001b[39;00m\n\u001b[0;32m---> 55\u001b[0m \u001b[38;5;28;01mreturn\u001b[39;00m \u001b[38;5;28;43mself\u001b[39;49m\u001b[38;5;241;43m.\u001b[39;49m\u001b[43m_postprocess_nodes\u001b[49m\u001b[43m(\u001b[49m\u001b[43mnodes\u001b[49m\u001b[43m,\u001b[49m\u001b[43m \u001b[49m\u001b[43mquery_bundle\u001b[49m\u001b[43m)\u001b[49m\n",
      "File \u001b[0;32m~/vs-code-projects/ex-rag/.venv/lib/python3.12/site-packages/llama_index/postprocessor/cohere_rerank/base.py:63\u001b[0m, in \u001b[0;36mCohereRerank._postprocess_nodes\u001b[0;34m(self, nodes, query_bundle)\u001b[0m\n\u001b[1;32m     53\u001b[0m \u001b[38;5;28;01mwith\u001b[39;00m \u001b[38;5;28mself\u001b[39m\u001b[38;5;241m.\u001b[39mcallback_manager\u001b[38;5;241m.\u001b[39mevent(\n\u001b[1;32m     54\u001b[0m     CBEventType\u001b[38;5;241m.\u001b[39mRERANKING,\n\u001b[1;32m     55\u001b[0m     payload\u001b[38;5;241m=\u001b[39m{\n\u001b[0;32m   (...)\u001b[0m\n\u001b[1;32m     60\u001b[0m     },\n\u001b[1;32m     61\u001b[0m ) \u001b[38;5;28;01mas\u001b[39;00m event:\n\u001b[1;32m     62\u001b[0m     texts \u001b[38;5;241m=\u001b[39m [node\u001b[38;5;241m.\u001b[39mnode\u001b[38;5;241m.\u001b[39mget_content() \u001b[38;5;28;01mfor\u001b[39;00m node \u001b[38;5;129;01min\u001b[39;00m nodes]\n\u001b[0;32m---> 63\u001b[0m     results \u001b[38;5;241m=\u001b[39m \u001b[38;5;28;43mself\u001b[39;49m\u001b[38;5;241;43m.\u001b[39;49m\u001b[43m_client\u001b[49m\u001b[38;5;241;43m.\u001b[39;49m\u001b[43mrerank\u001b[49m\u001b[43m(\u001b[49m\n\u001b[1;32m     64\u001b[0m \u001b[43m        \u001b[49m\u001b[43mmodel\u001b[49m\u001b[38;5;241;43m=\u001b[39;49m\u001b[38;5;28;43mself\u001b[39;49m\u001b[38;5;241;43m.\u001b[39;49m\u001b[43mmodel\u001b[49m\u001b[43m,\u001b[49m\n\u001b[1;32m     65\u001b[0m \u001b[43m        \u001b[49m\u001b[43mtop_n\u001b[49m\u001b[38;5;241;43m=\u001b[39;49m\u001b[38;5;28;43mself\u001b[39;49m\u001b[38;5;241;43m.\u001b[39;49m\u001b[43mtop_n\u001b[49m\u001b[43m,\u001b[49m\n\u001b[1;32m     66\u001b[0m \u001b[43m        \u001b[49m\u001b[43mquery\u001b[49m\u001b[38;5;241;43m=\u001b[39;49m\u001b[43mquery_bundle\u001b[49m\u001b[38;5;241;43m.\u001b[39;49m\u001b[43mquery_str\u001b[49m\u001b[43m,\u001b[49m\n\u001b[1;32m     67\u001b[0m \u001b[43m        \u001b[49m\u001b[43mdocuments\u001b[49m\u001b[38;5;241;43m=\u001b[39;49m\u001b[43mtexts\u001b[49m\u001b[43m,\u001b[49m\n\u001b[1;32m     68\u001b[0m \u001b[43m    \u001b[49m\u001b[43m)\u001b[49m\n\u001b[1;32m     70\u001b[0m     new_nodes \u001b[38;5;241m=\u001b[39m []\n\u001b[1;32m     71\u001b[0m     \u001b[38;5;28;01mfor\u001b[39;00m result \u001b[38;5;129;01min\u001b[39;00m results:\n",
      "File \u001b[0;32m~/vs-code-projects/ex-rag/.venv/lib/python3.12/site-packages/cohere/client.py:739\u001b[0m, in \u001b[0;36mClient.rerank\u001b[0;34m(self, query, documents, model, top_n, max_chunks_per_doc)\u001b[0m\n\u001b[1;32m    726\u001b[0m         \u001b[38;5;28;01mraise\u001b[39;00m CohereError(\n\u001b[1;32m    727\u001b[0m             message\u001b[38;5;241m=\u001b[39m\u001b[38;5;124m'\u001b[39m\u001b[38;5;124minvalid format for documents, must be a list of strings or dicts with a \u001b[39m\u001b[38;5;124m\"\u001b[39m\u001b[38;5;124mtext\u001b[39m\u001b[38;5;124m\"\u001b[39m\u001b[38;5;124m key\u001b[39m\u001b[38;5;124m'\u001b[39m\n\u001b[1;32m    728\u001b[0m         )\n\u001b[1;32m    730\u001b[0m json_body \u001b[38;5;241m=\u001b[39m {\n\u001b[1;32m    731\u001b[0m     \u001b[38;5;124m\"\u001b[39m\u001b[38;5;124mquery\u001b[39m\u001b[38;5;124m\"\u001b[39m: query,\n\u001b[1;32m    732\u001b[0m     \u001b[38;5;124m\"\u001b[39m\u001b[38;5;124mdocuments\u001b[39m\u001b[38;5;124m\"\u001b[39m: parsed_docs,\n\u001b[0;32m   (...)\u001b[0m\n\u001b[1;32m    736\u001b[0m     \u001b[38;5;124m\"\u001b[39m\u001b[38;5;124mmax_chunks_per_doc\u001b[39m\u001b[38;5;124m\"\u001b[39m: max_chunks_per_doc,\n\u001b[1;32m    737\u001b[0m }\n\u001b[0;32m--> 739\u001b[0m reranking \u001b[38;5;241m=\u001b[39m Reranking(\u001b[38;5;28;43mself\u001b[39;49m\u001b[38;5;241;43m.\u001b[39;49m\u001b[43m_request\u001b[49m\u001b[43m(\u001b[49m\u001b[43mcohere\u001b[49m\u001b[38;5;241;43m.\u001b[39;49m\u001b[43mRERANK_URL\u001b[49m\u001b[43m,\u001b[49m\u001b[43m \u001b[49m\u001b[43mjson\u001b[49m\u001b[38;5;241;43m=\u001b[39;49m\u001b[43mjson_body\u001b[49m\u001b[43m)\u001b[49m)\n\u001b[1;32m    740\u001b[0m \u001b[38;5;28;01mfor\u001b[39;00m rank \u001b[38;5;129;01min\u001b[39;00m reranking\u001b[38;5;241m.\u001b[39mresults:\n\u001b[1;32m    741\u001b[0m     rank\u001b[38;5;241m.\u001b[39mdocument \u001b[38;5;241m=\u001b[39m parsed_docs[rank\u001b[38;5;241m.\u001b[39mindex]\n",
      "File \u001b[0;32m~/vs-code-projects/ex-rag/.venv/lib/python3.12/site-packages/cohere/client.py:926\u001b[0m, in \u001b[0;36mClient._request\u001b[0;34m(self, endpoint, json, files, method, stream, params)\u001b[0m\n\u001b[1;32m    923\u001b[0m     \u001b[38;5;28;01mexcept\u001b[39;00m jsonlib\u001b[38;5;241m.\u001b[39mdecoder\u001b[38;5;241m.\u001b[39mJSONDecodeError:  \u001b[38;5;66;03m# CohereAPIError will capture status\u001b[39;00m\n\u001b[1;32m    924\u001b[0m         \u001b[38;5;28;01mraise\u001b[39;00m CohereAPIError\u001b[38;5;241m.\u001b[39mfrom_response(response, message\u001b[38;5;241m=\u001b[39m\u001b[38;5;124mf\u001b[39m\u001b[38;5;124m\"\u001b[39m\u001b[38;5;124mFailed to decode json body: \u001b[39m\u001b[38;5;132;01m{\u001b[39;00mresponse\u001b[38;5;241m.\u001b[39mtext\u001b[38;5;132;01m}\u001b[39;00m\u001b[38;5;124m\"\u001b[39m)\n\u001b[0;32m--> 926\u001b[0m     \u001b[38;5;28;43mself\u001b[39;49m\u001b[38;5;241;43m.\u001b[39;49m\u001b[43m_check_response\u001b[49m\u001b[43m(\u001b[49m\u001b[43mjson_response\u001b[49m\u001b[43m,\u001b[49m\u001b[43m \u001b[49m\u001b[43mresponse\u001b[49m\u001b[38;5;241;43m.\u001b[39;49m\u001b[43mheaders\u001b[49m\u001b[43m,\u001b[49m\u001b[43m \u001b[49m\u001b[43mresponse\u001b[49m\u001b[38;5;241;43m.\u001b[39;49m\u001b[43mstatus_code\u001b[49m\u001b[43m)\u001b[49m\n\u001b[1;32m    927\u001b[0m \u001b[38;5;28;01mreturn\u001b[39;00m json_response\n",
      "File \u001b[0;32m~/vs-code-projects/ex-rag/.venv/lib/python3.12/site-packages/cohere/client.py:868\u001b[0m, in \u001b[0;36mClient._check_response\u001b[0;34m(self, json_response, headers, status_code)\u001b[0m\n\u001b[1;32m    866\u001b[0m     logger\u001b[38;5;241m.\u001b[39mwarning(headers[\u001b[38;5;124m\"\u001b[39m\u001b[38;5;124mX-API-Warning\u001b[39m\u001b[38;5;124m\"\u001b[39m])\n\u001b[1;32m    867\u001b[0m \u001b[38;5;28;01mif\u001b[39;00m \u001b[38;5;124m\"\u001b[39m\u001b[38;5;124mmessage\u001b[39m\u001b[38;5;124m\"\u001b[39m \u001b[38;5;129;01min\u001b[39;00m json_response:  \u001b[38;5;66;03m# has errors\u001b[39;00m\n\u001b[0;32m--> 868\u001b[0m     \u001b[38;5;28;01mraise\u001b[39;00m CohereAPIError(\n\u001b[1;32m    869\u001b[0m         message\u001b[38;5;241m=\u001b[39mjson_response[\u001b[38;5;124m\"\u001b[39m\u001b[38;5;124mmessage\u001b[39m\u001b[38;5;124m\"\u001b[39m],\n\u001b[1;32m    870\u001b[0m         http_status\u001b[38;5;241m=\u001b[39mstatus_code,\n\u001b[1;32m    871\u001b[0m         headers\u001b[38;5;241m=\u001b[39mheaders,\n\u001b[1;32m    872\u001b[0m     )\n\u001b[1;32m    873\u001b[0m \u001b[38;5;28;01mif\u001b[39;00m \u001b[38;5;241m400\u001b[39m \u001b[38;5;241m<\u001b[39m\u001b[38;5;241m=\u001b[39m status_code \u001b[38;5;241m<\u001b[39m \u001b[38;5;241m500\u001b[39m:\n\u001b[1;32m    874\u001b[0m     \u001b[38;5;28;01mraise\u001b[39;00m CohereAPIError(\n\u001b[1;32m    875\u001b[0m         message\u001b[38;5;241m=\u001b[39m\u001b[38;5;124mf\u001b[39m\u001b[38;5;124m\"\u001b[39m\u001b[38;5;124mUnexpected client error (status \u001b[39m\u001b[38;5;132;01m{\u001b[39;00mstatus_code\u001b[38;5;132;01m}\u001b[39;00m\u001b[38;5;124m): \u001b[39m\u001b[38;5;132;01m{\u001b[39;00mjson_response\u001b[38;5;132;01m}\u001b[39;00m\u001b[38;5;124m\"\u001b[39m,\n\u001b[1;32m    876\u001b[0m         http_status\u001b[38;5;241m=\u001b[39mstatus_code,\n\u001b[1;32m    877\u001b[0m         headers\u001b[38;5;241m=\u001b[39mheaders,\n\u001b[1;32m    878\u001b[0m     )\n",
      "\u001b[0;31mCohereAPIError\u001b[0m: invalid request: list of documents must not contain only empty strings or only whitespace"
     ]
    }
   ],
   "source": [
    "query = \"Summarize all the documents\"\n",
    "resp = query_engine.query(query)"
   ]
  },
  {
   "cell_type": "code",
   "execution_count": 40,
   "metadata": {},
   "outputs": [
    {
     "data": {
      "text/plain": [
       "'The documents present a study on a 1-bit Large Language Model (LLM) called BitNet b1.58. The model is based on the BitNet architecture, which uses a Transformer that replaces nn.Linear with BitLinear. BitNet b1.58 has 1.58-bit weights and 8-bit activations and is trained from scratch. The model introduces a new computation paradigm that requires almost no multiplication operations for matrix multiplication, resulting in energy savings and faster computation. BitNet b1.58 has a much lower memory footprint than full-precision models, reducing the cost and time of loading weights from DRAM.\\n\\nThe study compares BitNet b1.58 with a full-precision baseline, LLaMA LLM, and shows that BitNet b1.58 can match the performance of the full precision baseline starting from a 3B size. The memory and latency cost of BitNet b1.58 is lower than LLaMA LLM, demonstrating that BitNet b1.58 is a Pareto improvement over the state-of-the-art LLM models.\\n\\nThe study further scales up the model size to 7B, 13B, and 70B and evaluates the cost. The results show that BitNet b1.58 70B is 4.1 times faster than the LLaMA LLM baseline. The memory consumption follows a similar trend, as the embedding remains full precision and its memory proportion is smaller for larger models.\\n\\nThe study estimates the arithmetic operations energy consumption of both BitNet b1.58 and LLaMA LLM and shows that BitNet b1.58 saves 71.4 times arithmetic operations energy consumption for matrix multiplication on 7nm chips. The end-to-end energy cost shows that BitNet b1.58 becomes increasingly more efficient in terms of energy consumption compared to the FP16 LLaMA LLM baseline as the model size scales.\\n\\nThe study compares the throughput of BitNet b1.58 and LLaMA LLM with 70B parameters and shows that BitNet b1.58 70B can support up to 11 times the batch size of LLaMA LLM, resulting in an 8.9 times higher throughput.'"
      ]
     },
     "execution_count": 40,
     "metadata": {},
     "output_type": "execute_result"
    }
   ],
   "source": [
    "resp.response"
   ]
  }
 ],
 "metadata": {
  "kernelspec": {
   "display_name": "Python 3",
   "language": "python",
   "name": "python3"
  },
  "language_info": {
   "codemirror_mode": {
    "name": "ipython",
    "version": 3
   },
   "file_extension": ".py",
   "mimetype": "text/x-python",
   "name": "python",
   "nbconvert_exporter": "python",
   "pygments_lexer": "ipython3",
   "version": "3.12.2"
  }
 },
 "nbformat": 4,
 "nbformat_minor": 2
}
